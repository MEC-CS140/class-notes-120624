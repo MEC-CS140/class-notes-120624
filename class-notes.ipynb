{
 "cells": [
  {
   "cell_type": "markdown",
   "metadata": {},
   "source": [
    "# Welcome to CS 140: Python Unit, Part 1\n",
    "This Notebook is for the first few weeks in Python, we will transition to making our own standalone applications in Part 2!\n",
    "\n",
    "**Make a new Code cell by clicking the + Code button at the top of the notebook.**"
   ]
  },
  {
   "cell_type": "code",
   "execution_count": 1,
   "metadata": {},
   "outputs": [
    {
     "name": "stdout",
     "output_type": "stream",
     "text": [
      "Hello\n"
     ]
    }
   ],
   "source": [
    "print(\"Hello\")"
   ]
  },
  {
   "cell_type": "code",
   "execution_count": 2,
   "metadata": {},
   "outputs": [
    {
     "name": "stdout",
     "output_type": "stream",
     "text": [
      "Text\n"
     ]
    }
   ],
   "source": [
    "my_var = \"Text\"\n",
    "print(my_var)"
   ]
  },
  {
   "cell_type": "code",
   "execution_count": 5,
   "metadata": {},
   "outputs": [
    {
     "name": "stdout",
     "output_type": "stream",
     "text": [
      "Text\n",
      "Your name is: J\n"
     ]
    }
   ],
   "source": [
    "print(my_var)\n",
    "\n",
    "name = input(\"Enter your name\")\n",
    "print(\"Your name is: \" + name)"
   ]
  },
  {
   "cell_type": "code",
   "execution_count": 12,
   "metadata": {},
   "outputs": [
    {
     "name": "stdout",
     "output_type": "stream",
     "text": [
      "You are an adult\n",
      "True\n"
     ]
    }
   ],
   "source": [
    "age = input(\"Enter your age\")\n",
    "\n",
    "\n",
    "if int(age) >= 18 :\n",
    "    print(\"You are an adult\")\n",
    "else:\n",
    "    print(\"Not an adult\")\n",
    "\n",
    "print(int(age) >= 18)\n",
    "# to convert to a string use str()"
   ]
  },
  {
   "cell_type": "code",
   "execution_count": 25,
   "metadata": {},
   "outputs": [
    {
     "name": "stdout",
     "output_type": "stream",
     "text": [
      "['glazed', 'boston creme', 'sprinkles', 'chocolate', 'cake']\n",
      "['glazed', 'boston creme', 'sprinkles', 'chocolate', 'cake', 'jelly']\n"
     ]
    }
   ],
   "source": [
    "doughnuts = ['glazed', 'boston creme', 'sprinkles', 'chocolate', 'cake']\n",
    "print(doughnuts)\n",
    "\n",
    "new_doughnut = input(\"Add doughnut flavor\")\n",
    "doughnuts.append(new_doughnut)\n",
    "print(doughnuts)"
   ]
  },
  {
   "cell_type": "code",
   "execution_count": 36,
   "metadata": {},
   "outputs": [
    {
     "name": "stdout",
     "output_type": "stream",
     "text": [
      "['glazed', 'boston creme', 'sprinkles', 'chocolate', 'cake', 'jelly', 'blueberry', 'Bluberry']\n",
      "['glazed', 'sprinkles', 'chocolate', 'cake', 'jelly', 'blueberry', 'Bluberry']\n",
      "['glazed', 'sprinkles', 'chocolate', 'cake', 'jelly', 'blueberry']\n"
     ]
    }
   ],
   "source": [
    "print(doughnuts)\n",
    "doughnuts.remove(\"boston creme\")\n",
    "print(doughnuts)\n",
    "doughnuts.pop()\n",
    "print(doughnuts)"
   ]
  },
  {
   "cell_type": "code",
   "execution_count": 37,
   "metadata": {},
   "outputs": [
    {
     "name": "stdout",
     "output_type": "stream",
     "text": [
      "6\n",
      "7\n",
      "True\n"
     ]
    }
   ],
   "source": [
    "print(len(doughnuts))\n",
    "doughnuts.append(\"jelly\")\n",
    "print(len(doughnuts))\n",
    "\n",
    "print(\"jelly\" in doughnuts)\n"
   ]
  },
  {
   "cell_type": "code",
   "execution_count": 38,
   "metadata": {},
   "outputs": [
    {
     "name": "stdout",
     "output_type": "stream",
     "text": [
      "raspberry does not exist in the list! Adding flavor...\n",
      "['glazed', 'sprinkles', 'chocolate', 'cake', 'jelly', 'blueberry', 'jelly', 'raspberry']\n"
     ]
    }
   ],
   "source": [
    "user_flavor_input = input(\"Find a flavor\")\n",
    "\n",
    "if user_flavor_input in doughnuts:\n",
    "    print(user_flavor_input + \" exists in the list!\")\n",
    "else:\n",
    "    print(user_flavor_input + \" does not exist in the list! Adding flavor...\")\n",
    "    doughnuts.append(user_flavor_input)\n",
    "    print(doughnuts)\n",
    "\n",
    "\n"
   ]
  },
  {
   "cell_type": "code",
   "execution_count": 43,
   "metadata": {},
   "outputs": [
    {
     "name": "stdout",
     "output_type": "stream",
     "text": [
      "blueberry\n",
      "jelly\n",
      "['blueberry', 'cake', 'chocolate', 'glazed', 'jelly', 'jelly', 'mango', 'mango', 'powdered', 'raspberry', 'sprinkles']\n",
      "11\n",
      "sprinkles\n",
      "['blueberry', 'mango', 'cake', 'chocolate', 'glazed', 'jelly', 'jelly', 'mango', 'mango', 'powdered', 'raspberry', 'sprinkles']\n",
      "['blueberry', 'cake', 'chocolate', 'glazed', 'jelly', 'jelly', 'mango', 'mango', 'mango', 'powdered', 'raspberry', 'sprinkles']\n"
     ]
    }
   ],
   "source": [
    "print(doughnuts[0])\n",
    "print(doughnuts[5])\n",
    "print(doughnuts)\n",
    "print(len(doughnuts))\n",
    "print(doughnuts[len(doughnuts) - 1]) #  to find last item in the \n",
    "\n",
    "doughnuts.insert(1, \"mango\")\n",
    "print(doughnuts)\n",
    "\n",
    "doughnuts.sort()\n",
    "print(doughnuts)"
   ]
  },
  {
   "cell_type": "code",
   "execution_count": 44,
   "metadata": {},
   "outputs": [
    {
     "name": "stdout",
     "output_type": "stream",
     "text": [
      "0\n",
      "1\n",
      "2\n",
      "3\n",
      "4\n",
      "5\n"
     ]
    }
   ],
   "source": [
    "number = 0\n",
    "while number <= 5:\n",
    "    print(number)\n",
    "    number += 1"
   ]
  },
  {
   "cell_type": "code",
   "execution_count": 46,
   "metadata": {},
   "outputs": [
    {
     "name": "stdout",
     "output_type": "stream",
     "text": [
      "blueberry\n",
      "cake\n",
      "chocolate\n",
      "glazed\n",
      "jelly\n",
      "jelly\n",
      "mango\n",
      "mango\n",
      "mango\n",
      "powdered\n",
      "raspberry\n",
      "sprinkles\n"
     ]
    }
   ],
   "source": [
    "for d in doughnuts:\n",
    "    print(d)"
   ]
  },
  {
   "cell_type": "code",
   "execution_count": 48,
   "metadata": {},
   "outputs": [
    {
     "name": "stdout",
     "output_type": "stream",
     "text": [
      "Hello\n"
     ]
    }
   ],
   "source": [
    "def my_function():\n",
    "    print(\"Hello\")\n",
    "\n",
    "my_function()"
   ]
  },
  {
   "cell_type": "code",
   "execution_count": 50,
   "metadata": {},
   "outputs": [
    {
     "name": "stdout",
     "output_type": "stream",
     "text": [
      "0\n",
      "True\n"
     ]
    }
   ],
   "source": [
    "def get_remainder():\n",
    "    remainder = 100 % 10\n",
    "    print(remainder)\n",
    "    return remainder\n",
    "\n",
    "rem = get_remainder()\n",
    "print(rem == 0)"
   ]
  },
  {
   "cell_type": "code",
   "execution_count": 56,
   "metadata": {},
   "outputs": [
    {
     "name": "stdout",
     "output_type": "stream",
     "text": [
      "False\n",
      "True\n",
      "False\n"
     ]
    }
   ],
   "source": [
    "def is_even(num):\n",
    "    remainder = num % 2\n",
    "    if remainder == 0:\n",
    "        return True\n",
    "    else:\n",
    "        return False\n",
    "    \n",
    "print(is_even(5))\n",
    "print(is_even(10))\n",
    "\n",
    "\n",
    "num_input = int(input(\"check if this number is even\"))\n",
    "\n",
    "print(is_even(num_input))\n",
    "\n",
    "\n",
    "\n"
   ]
  }
 ],
 "metadata": {
  "kernelspec": {
   "display_name": "Python 3",
   "language": "python",
   "name": "python3"
  },
  "language_info": {
   "codemirror_mode": {
    "name": "ipython",
    "version": 3
   },
   "file_extension": ".py",
   "mimetype": "text/x-python",
   "name": "python",
   "nbconvert_exporter": "python",
   "pygments_lexer": "ipython3",
   "version": "3.12.1"
  }
 },
 "nbformat": 4,
 "nbformat_minor": 2
}
